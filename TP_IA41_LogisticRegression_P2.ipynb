{
  "cells": [
    {
      "cell_type": "markdown",
      "metadata": {
        "id": "ToWwfu94KNBE"
      },
      "source": [
        "# **Presentación**"
      ]
    },
    {
      "cell_type": "markdown",
      "source": [
        "\n",
        "## **Tecnicatura Universitaria en Inteligencia Artificial**\n",
        "### *Trabajo Práctico Integrador*\n",
        "### ***Aprendizaje Automatico 1***\n",
        "---\n",
        "\n",
        "**Equipo**:\n",
        "- Ferrucci Constantino\n",
        "- Giampaoli Fabio\n",
        "\n",
        "<br>\n",
        "\n",
        "**Fechas de entrega**:\n",
        "- 27/10/2023 (segunda entrega hasta item 4)\n",
        "\n",
        "\n",
        "---"
      ],
      "metadata": {
        "id": "y4iE09AUQD9M"
      }
    },
    {
      "cell_type": "markdown",
      "source": [
        "## **Resumen**\n",
        "\n",
        "\n",
        "Esta es la segunda parte del proyecto de la asignatura Aprendizaje Automatico 1. Puede consultar la parte 1 del mismo en el repositorio de [github](https://github.com/Shannon-21/Aprendizaje_Automatico_1.git), o bien el siguiente [notebook de Google Colab](https://colab.research.google.com/drive/1P32i9TmMZgLiKAblI0vKwltg7GMwnqvw?usp=sharing).\\\n",
        "<br>\n",
        "\n",
        "La primera parte consiste en la limpieza del dataset ofrecido y obtencion de predicciones y metricas de las mismas sobre la cantidad de lluvia en las ciudades de Australia elegidas para el dia posterior al ingresado.\\\n",
        "<br>\n",
        "\n",
        "El dataset elegido consiste de variables meteorologicas de Australia en determinado periodo de tiempo que seran de interes para la predicion de la presencia de lluvia en algun dia con ciertas caracteristicas mediante modelos estudiados en el cursado de la materia.\\\n",
        "<br>\n",
        "\n",
        "En esta etapa del trabajo practico, es de principal interes el analisis y tratamiento del conjunto de datos para conocer el contexto sobre el cual vamos a desarrollarnos y entender como las variables explicativas afectan a nuestra variable de interes: 'RainTomorrow', que es una varible binaria. Luego realizar predicciones utilizando modelos de regresion logistica con diferentes caracteristicas, y comparar cual tiene mejor comportameinto a la hora de predecir la presencia de lluvia para el dia siguiente dada ciertas condiciones del dia previo.\\\n",
        "<br>"
      ],
      "metadata": {
        "id": "lM2pgDxlOROi"
      }
    },
    {
      "cell_type": "markdown",
      "source": [
        "# **Entorno**"
      ],
      "metadata": {
        "id": "UfSCzQvSch4m"
      }
    },
    {
      "cell_type": "markdown",
      "source": [
        "Me gustaria meter aca directamente el dasaset preprocesado por la parte una del tp (hacer un csv del limpio y cargarlo directo aca). Pero tambien cargar distintas variantes del mismo, ya que la interpretacion del mismo puede diferir al tener todas variable snumiercas estandar (no saber a que ciudad se corresponde un numero, por ejemplo)\n",
        "\n",
        "Yo cargaria el limpio final, y otro no estandarizado ni codificado ni reducido en clases, pero si imputado.\n",
        "\n",
        "Este segundo mas con el fin de comparaciones de si las logistas van mejor con o sin codificaciones, y demas."
      ],
      "metadata": {
        "id": "xUlWJflDdts2"
      }
    },
    {
      "cell_type": "markdown",
      "source": [
        "### Librerias"
      ],
      "metadata": {
        "id": "uE_jc_KucoGE"
      }
    },
    {
      "cell_type": "code",
      "source": [],
      "metadata": {
        "id": "tFbyUpF8cqTr"
      },
      "execution_count": null,
      "outputs": []
    },
    {
      "cell_type": "markdown",
      "source": [
        "### Datos"
      ],
      "metadata": {
        "id": "lkSPO0p2cqxz"
      }
    },
    {
      "cell_type": "code",
      "source": [],
      "metadata": {
        "id": "39ihi0RXct6i"
      },
      "execution_count": null,
      "outputs": []
    },
    {
      "cell_type": "markdown",
      "source": [
        "# **Analisis Descriptivo**"
      ],
      "metadata": {
        "id": "fxkSHFgqdvVh"
      }
    },
    {
      "cell_type": "markdown",
      "source": [
        "Si bien esto ya estaba hecho, me gustaria enfocarlo ahora un poco mas en balances de clases, estudiar el comportamiento de presencia de lluvia con respecto a las otras variables, etc."
      ],
      "metadata": {
        "id": "5KRI9mhed6sJ"
      }
    },
    {
      "cell_type": "markdown",
      "source": [
        "### Analisis"
      ],
      "metadata": {
        "id": "3DFpKEJceIVz"
      }
    },
    {
      "cell_type": "code",
      "source": [],
      "metadata": {
        "id": "74D13F4QeNMG"
      },
      "execution_count": null,
      "outputs": []
    },
    {
      "cell_type": "markdown",
      "source": [
        "# **Procesamiento**"
      ],
      "metadata": {
        "id": "GIN3oO6zeR2U"
      }
    },
    {
      "cell_type": "markdown",
      "source": [
        "Si nos encontramos desbalances, o transformaciones que resultan ventajosas para la clasificacion, podemos agregarlo aca"
      ],
      "metadata": {
        "id": "WRzdc0E6eUbg"
      }
    },
    {
      "cell_type": "markdown",
      "source": [
        "### Transformacion"
      ],
      "metadata": {
        "id": "NL1pI27Oeddd"
      }
    },
    {
      "cell_type": "code",
      "source": [],
      "metadata": {
        "id": "l-68UC9xegmm"
      },
      "execution_count": null,
      "outputs": []
    },
    {
      "cell_type": "markdown",
      "source": [
        "# **Predecciones**"
      ],
      "metadata": {
        "id": "7-KDPJZhekmF"
      }
    },
    {
      "cell_type": "markdown",
      "source": [
        "Cuando consideremos que ya el dataset esta en su mejor forma, definimos y jugamos con los modelos"
      ],
      "metadata": {
        "id": "Ul0dDvB5en4c"
      }
    },
    {
      "cell_type": "markdown",
      "source": [
        "### Modelos"
      ],
      "metadata": {
        "id": "SC99y0saevDI"
      }
    },
    {
      "cell_type": "code",
      "source": [],
      "metadata": {
        "id": "69QarKiceyf7"
      },
      "execution_count": null,
      "outputs": []
    },
    {
      "cell_type": "markdown",
      "source": [
        "### Interpretaciones"
      ],
      "metadata": {
        "id": "vaiGpYjNexgl"
      }
    },
    {
      "cell_type": "markdown",
      "source": [
        "Aca vamos a tener que meter toda la parte de explicabilidad para ver las poderaciones y cpmportamiento de los modelos a la hora de predecir y entrenar"
      ],
      "metadata": {
        "id": "dURdcEN2e3gM"
      }
    },
    {
      "cell_type": "code",
      "source": [],
      "metadata": {
        "id": "z94C_mCxfANh"
      },
      "execution_count": null,
      "outputs": []
    },
    {
      "cell_type": "markdown",
      "source": [
        "# **Conclusiones**"
      ],
      "metadata": {
        "id": "YSbNIaxUe_du"
      }
    },
    {
      "cell_type": "markdown",
      "source": [
        "Concluciones de mejores predicciones y los modelos"
      ],
      "metadata": {
        "id": "sHT_J_2LfFoN"
      }
    }
  ],
  "metadata": {
    "colab": {
      "provenance": [],
      "collapsed_sections": [
        "ToWwfu94KNBE",
        "UfSCzQvSch4m",
        "uE_jc_KucoGE",
        "lkSPO0p2cqxz",
        "fxkSHFgqdvVh",
        "3DFpKEJceIVz",
        "GIN3oO6zeR2U",
        "NL1pI27Oeddd",
        "7-KDPJZhekmF",
        "SC99y0saevDI",
        "vaiGpYjNexgl",
        "YSbNIaxUe_du"
      ]
    },
    "kernelspec": {
      "display_name": "Python 3",
      "name": "python3"
    },
    "language_info": {
      "name": "python"
    }
  },
  "nbformat": 4,
  "nbformat_minor": 0
}