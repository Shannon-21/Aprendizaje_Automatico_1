{
  "nbformat": 4,
  "nbformat_minor": 0,
  "metadata": {
    "colab": {
      "provenance": []
    },
    "kernelspec": {
      "name": "python3",
      "display_name": "Python 3"
    },
    "language_info": {
      "name": "python"
    }
  },
  "cells": [
    {
      "cell_type": "markdown",
      "source": [
        "# ***Presentación***"
      ],
      "metadata": {
        "id": "uxJj08-lclSL"
      }
    },
    {
      "cell_type": "markdown",
      "source": [],
      "metadata": {
        "id": "pJdf0664crkr"
      }
    },
    {
      "cell_type": "markdown",
      "source": [
        "# ***Entorno***"
      ],
      "metadata": {
        "id": "0cZM-sEMcsc6"
      }
    },
    {
      "cell_type": "markdown",
      "source": [],
      "metadata": {
        "id": "zQUe-ASfcxC0"
      }
    },
    {
      "cell_type": "code",
      "execution_count": null,
      "metadata": {
        "id": "m_hnCQeAcRq3"
      },
      "outputs": [],
      "source": []
    },
    {
      "cell_type": "markdown",
      "source": [
        "# ***Procesamiento***"
      ],
      "metadata": {
        "id": "8Gv4CNn3cx-J"
      }
    },
    {
      "cell_type": "markdown",
      "source": [],
      "metadata": {
        "id": "f_UJg281c2Im"
      }
    },
    {
      "cell_type": "code",
      "source": [],
      "metadata": {
        "id": "9T_PqNNhc2ix"
      },
      "execution_count": null,
      "outputs": []
    },
    {
      "cell_type": "markdown",
      "source": [
        "# ***Predicciones***"
      ],
      "metadata": {
        "id": "6Uvhvb-wc3R3"
      }
    },
    {
      "cell_type": "markdown",
      "source": [],
      "metadata": {
        "id": "LodbhMnIc6Yk"
      }
    },
    {
      "cell_type": "code",
      "source": [],
      "metadata": {
        "id": "TU1NBjbFc6zo"
      },
      "execution_count": null,
      "outputs": []
    },
    {
      "cell_type": "markdown",
      "source": [
        "# ***Conclusiones***"
      ],
      "metadata": {
        "id": "ONKG5C4Cc7JS"
      }
    },
    {
      "cell_type": "markdown",
      "source": [],
      "metadata": {
        "id": "TygjEEoqdCmB"
      }
    }
  ]
}